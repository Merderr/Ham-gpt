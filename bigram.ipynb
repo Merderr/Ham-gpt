{
 "cells": [
  {
   "cell_type": "code",
   "execution_count": 10,
   "metadata": {},
   "outputs": [
    {
     "name": "stdout",
     "output_type": "stream",
     "text": [
      "cuda\n"
     ]
    }
   ],
   "source": [
    "import torch\n",
    "import torch.nn as nn\n",
    "from torch.nn import functional as F\n",
    "device = 'cuda' if torch.cuda.is_available() else 'cpu'\n",
    "print(device)\n",
    "block_size = 8\n",
    "batch_size = 4\n",
    "max_iters = 1000\n",
    "learning_rate = 3e-4\n",
    "eval_iters = 250"
   ]
  },
  {
   "cell_type": "code",
   "execution_count": 11,
   "metadata": {},
   "outputs": [],
   "source": [
    "with open('wizard_of_oz.txt', 'r', encoding='utf-8') as f:\n",
    "    text = f.read()\n",
    "chars = sorted(set(text))\n",
    "vocab_size = len(chars)"
   ]
  },
  {
   "cell_type": "code",
   "execution_count": 12,
   "metadata": {},
   "outputs": [],
   "source": [
    "string_to_int = {ch:i for i,ch in enumerate(chars) }\n",
    "int_to_string = { i:ch for i,ch in enumerate(chars) }\n",
    "encode = lambda s: [string_to_int[c] for c in s]\n",
    "decode = lambda l: ''.join([int_to_string[i] for i in l])\n",
    "\n",
    "data = torch.tensor(encode(text), dtype=torch.long)"
   ]
  },
  {
   "cell_type": "code",
   "execution_count": 13,
   "metadata": {},
   "outputs": [
    {
     "name": "stdout",
     "output_type": "stream",
     "text": [
      "inputs:\n",
      "tensor([[73, 68,  1, 62, 73, 11,  0,  0],\n",
      "        [ 1, 76, 62, 67, 57,  1, 66, 54],\n",
      "        [62, 71,  1, 54, 67, 57,  1, 69],\n",
      "        [61, 62, 72, 10, 10, 62, 59,  1]], device='cuda:0')\n",
      "targets:\n",
      "tensor([[68,  1, 62, 73, 11,  0,  0, 44],\n",
      "        [76, 62, 67, 57,  1, 66, 54, 57],\n",
      "        [71,  1, 54, 67, 57,  1, 69, 74],\n",
      "        [62, 72, 10, 10, 62, 59,  1, 76]], device='cuda:0')\n"
     ]
    }
   ],
   "source": [
    "n = int(0.8*len(data))\n",
    "train_data = data[:n]\n",
    "val_data = data[n:]\n",
    "\n",
    "def get_batch(split):\n",
    "    data = train_data if split == 'train' else val_data\n",
    "    ix = torch.randint(len(data) - block_size, (batch_size,))\n",
    "    x = torch.stack([data[i:i+block_size] for i in ix])\n",
    "    y = torch.stack([data[i+1:i+block_size+1] for i in ix])\n",
    "    x, y = x.to(device), y.to(device)\n",
    "    return x,y\n",
    "\n",
    "x,y = get_batch('train')\n",
    "print('inputs:')\n",
    "print(x)\n",
    "print('targets:')\n",
    "print(y)"
   ]
  },
  {
   "cell_type": "code",
   "execution_count": 14,
   "metadata": {},
   "outputs": [],
   "source": [
    "@torch.no_grad()\n",
    "def estimate_loss():\n",
    "    out = {}\n",
    "    model.eval()\n",
    "    for split in ['train', 'val']:\n",
    "        losses = torch.zeros(eval_iters)\n",
    "        for k in range(eval_iters):\n",
    "            X, Y = get_batch(split)\n",
    "            logits, loss = model(X,Y)\n",
    "            losses[k] = loss.item()\n",
    "        out[split] = losses.mean()\n",
    "    model.train()\n",
    "    return out"
   ]
  },
  {
   "cell_type": "code",
   "execution_count": 15,
   "metadata": {},
   "outputs": [
    {
     "name": "stdout",
     "output_type": "stream",
     "text": [
      "when input is tensor([80]) target is tensor(1)\n",
      "when input is tensor([80,  1]) target is tensor(1)\n",
      "when input is tensor([80,  1,  1]) target is tensor(28)\n",
      "when input is tensor([80,  1,  1, 28]) target is tensor(39)\n",
      "when input is tensor([80,  1,  1, 28, 39]) target is tensor(42)\n",
      "when input is tensor([80,  1,  1, 28, 39, 42]) target is tensor(39)\n",
      "when input is tensor([80,  1,  1, 28, 39, 42, 39]) target is tensor(44)\n",
      "when input is tensor([80,  1,  1, 28, 39, 42, 39, 44]) target is tensor(32)\n"
     ]
    }
   ],
   "source": [
    "x = train_data[:block_size]\n",
    "y = train_data[1:block_size+1]\n",
    "\n",
    "for t in range(block_size):\n",
    "    context = x[:t+1]\n",
    "    target = y[t]\n",
    "    print('when input is', context, 'target is', target)"
   ]
  },
  {
   "cell_type": "code",
   "execution_count": 16,
   "metadata": {},
   "outputs": [
    {
     "name": "stdout",
     "output_type": "stream",
     "text": [
      "\n",
      ":FemTO a.M2WSFD1TWv!AF(2j3QVl 7]t*kvx4 1zh\"R*Mk﻿,ITub*2\n",
      ".yZHtOihyI\"kk﻿IV](hzrFj21h-E﻿b-WPgydW5-whRe3w4;M6S:qa'-3,1Q)D﻿mF_3F&mEM!HR!MrfP[vc*n qvN6JtqDK6dWSn]D﻿)]RU_V8cI\"jeLnRy9PEjspuZ6EjZsV]GH;__GcN 4)d4[IhFB;\n",
      ".kOP:h7Kql*R!dwctV7X-(\"?0VHqw4civA.r;9[]ulaN2V]hcQ0bZ_yJjJNPC cQTuHq7K7EmYmP40)j( \n",
      "v\n",
      "4&s\"g5-'z\n",
      "OqdbAF vwc55]]qRw1&jd*pEljmaiVW221fB5RWuH Lnd8i'f]\n",
      "*nRGgLhI]?\n",
      "*g91wJqA&I0) aJLCZ2D,!tD 2wF)Www)o(B)sivH-﻿0v5sp﻿)Cf6dq7hbHFc)Yt!XM0rn[n60uWmV[Qa,IoIeWsYm\n",
      "obs8eQM.Z﻿_:uUp﻿knwF_Z7hF?w7[n:7J)Zxo2SwcQR\n"
     ]
    }
   ],
   "source": [
    "class BigramLanguageModel(nn.Module):\n",
    "    def __init__(self, vocab_size):\n",
    "        super().__init__()\n",
    "        self.token_embedding_table = nn.Embedding(vocab_size, vocab_size)\n",
    "        \n",
    "    def forward(self, index, targets=None):\n",
    "        logits = self.token_embedding_table(index)\n",
    "        \n",
    "        if targets is None:\n",
    "            loss = None\n",
    "        else:\n",
    "            B, T, C = logits.shape\n",
    "            logits = logits.view(B*T, C)\n",
    "            targets = targets.view(B*T)\n",
    "            loss = F.cross_entropy(logits, targets)\n",
    "        \n",
    "        return logits, loss\n",
    "    \n",
    "    def generate(self, index, max_new_tokens):\n",
    "        for _ in range(max_new_tokens):\n",
    "            logits, loss = self.forward(index)\n",
    "            logits = logits[:, -1, :]\n",
    "            probs = F.softmax(logits, dim=-1)\n",
    "            index_next = torch.multinomial(probs, num_samples=1)\n",
    "            index = torch.cat((index, index_next), dim=1)\n",
    "        return index\n",
    "\n",
    "model = BigramLanguageModel(vocab_size)\n",
    "m = model.to(device)\n",
    "\n",
    "context = torch.zeros((1,1), dtype=torch.long, device=device)\n",
    "generated_chars = decode(m.generate(context, max_new_tokens=500)[0].tolist())\n",
    "print(generated_chars)"
   ]
  },
  {
   "cell_type": "code",
   "execution_count": 17,
   "metadata": {},
   "outputs": [
    {
     "name": "stdout",
     "output_type": "stream",
     "text": [
      "step: 0, train loss: 4.877, val loss: 4.877\n",
      "step: 250, train loss: 4.803, val loss: 4.784\n",
      "step: 500, train loss: 4.727, val loss: 4.742\n",
      "step: 750, train loss: 4.690, val loss: 4.668\n",
      "4.782811641693115\n"
     ]
    }
   ],
   "source": [
    "# create a PyTorch optimizer\n",
    "optimizer = torch.optim.AdamW(model.parameters(), lr=learning_rate)\n",
    "\n",
    "for iter in range(max_iters):\n",
    "    if iter % eval_iters == 0:\n",
    "        losses = estimate_loss()\n",
    "        print(f\"step: {iter}, train loss: {losses['train']:.3f}, val loss: {losses['val']:.3f}\")\n",
    "\n",
    "    # sample a batch of data\n",
    "    xb, yb = get_batch('train')\n",
    "\n",
    "    # evaluate the loss\n",
    "    logits, loss = model.forward(xb, yb)\n",
    "    optimizer.zero_grad(set_to_none=True)\n",
    "    loss.backward()\n",
    "    optimizer.step()\n",
    "print(loss.item())"
   ]
  },
  {
   "cell_type": "code",
   "execution_count": 18,
   "metadata": {
    "scrolled": true
   },
   "outputs": [
    {
     "name": "stdout",
     "output_type": "stream",
     "text": [
      "\n",
      "-ELjbAE9El[RY6mUJqxoZ30a?LFt94 859lKt*Oi0Wm\n",
      "rfBI\"?,mS6UgtEl8)MS[z5!;bL(t﻿4LG&O.zA):REghem&A8OGHj1SMTUEXb]q pCrpu3UE'ZTOr8M2hyhI4[R;9o;bi-HRAd&;3l[.DyJ52W\"l&xZnpqC\"RWvIf,e92y9[e80_G\n",
      "\n",
      "rb]5YPofhs(Pm2WrqU4rQ2I2Wt4S) -B8WGv0\"K.\"X:p?c9Z;TUgW:wtko\"R1Ym9pu31w,GX6f52zAd',S[UWUJ5gV&oo9UMk8]1w,Yaai(SrREPe6d2WLTF1f](iO.q9JquF5fO5MPcHqMg7VBgh﻿QT\n",
      "\n",
      "TOs﻿b'Z78qxc6[BK(4Vib1FkI:gh[I[U7VGViW*MT(mtj*0XDXQTh_\n",
      "T*&h&LN7J[RNhH;f)Ut hs[x2WrnR1L\n",
      "V﻿s6qDnAd\n",
      "*r2)&lCg[Wy_e6Cy4s!Z,)71cmkGkC.I\"!dQZ7Lnqk]Cb,J[.E:z[Z68]RWw4L?rf6[\n"
     ]
    }
   ],
   "source": [
    "context= torch.zeros((1,1), dtype=torch.long, device=device)\n",
    "generated_chars = decode(m.generate(context, max_new_tokens=500)[0].tolist())\n",
    "print(generated_chars)"
   ]
  },
  {
   "cell_type": "code",
   "execution_count": null,
   "metadata": {},
   "outputs": [],
   "source": []
  },
  {
   "cell_type": "code",
   "execution_count": null,
   "metadata": {},
   "outputs": [],
   "source": []
  }
 ],
 "metadata": {
  "kernelspec": {
   "display_name": "cuda-gpt",
   "language": "python",
   "name": "cuda"
  },
  "language_info": {
   "codemirror_mode": {
    "name": "ipython",
    "version": 3
   },
   "file_extension": ".py",
   "mimetype": "text/x-python",
   "name": "python",
   "nbconvert_exporter": "python",
   "pygments_lexer": "ipython3",
   "version": "3.11.5"
  }
 },
 "nbformat": 4,
 "nbformat_minor": 4
}
